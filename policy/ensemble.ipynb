{
 "cells": [
  {
   "cell_type": "code",
   "execution_count": 3,
   "id": "c3268e69",
   "metadata": {},
   "outputs": [],
   "source": [
    "import pandas as pd\n",
    "import numpy as np\n",
    "import matplotlib.pyplot as plt\n",
    "import torch\n",
    "import torch.nn as nn\n",
    "import torch.optim as optim\n",
    "from torch.utils.data import DataLoader, TensorDataset\n",
    "from sklearn.model_selection import train_test_split\n",
    "from tqdm import tqdm\n"
   ]
  },
  {
   "cell_type": "code",
   "execution_count": 13,
   "id": "9c099517",
   "metadata": {},
   "outputs": [],
   "source": [
    "from sklearn.preprocessing import OneHotEncoder"
   ]
  },
  {
   "cell_type": "code",
   "execution_count": 42,
   "id": "499e341a",
   "metadata": {},
   "outputs": [],
   "source": [
    "class GaussianDNN(nn.Module):\n",
    "    def __init__(self, num_feats: int):\n",
    "        super(GaussianDNN, self).__init__()\n",
    "        self.fc1 = nn.Linear(num_feats, 256)\n",
    "        self.fc2 = nn.Linear(256, 256)\n",
    "        self.fc3 = nn.Linear(256, 256)\n",
    "        self.mean_output = nn.Linear(256, 1)\n",
    "        self.logvar_output = nn.Linear(256, 1)\n",
    "        self.activation = nn.ReLU()\n",
    "\n",
    "    def forward(self, x):\n",
    "        x = self.activation(self.fc1(x))\n",
    "        x = self.activation(self.fc2(x))\n",
    "        x = self.activation(self.fc3(x))\n",
    "        mean = self.mean_output(x)\n",
    "        logvar = self.logvar_output(x)\n",
    "        return mean, logvar"
   ]
  },
  {
   "cell_type": "code",
   "execution_count": 43,
   "id": "7f933a8c",
   "metadata": {},
   "outputs": [],
   "source": [
    "def train_gaussian_dnn(train_loader, model, optimizer):\n",
    "    model.train()\n",
    "    running_loss = 0.0\n",
    "    for inputs, targets in train_loader:\n",
    "        inputs, targets = inputs.to(device), targets.to(device)\n",
    "        optimizer.zero_grad()\n",
    "        mean, logvar = model(inputs)\n",
    "        \n",
    "        loss = 0.5 * (torch.exp(-logvar) * (targets - mean)**2 + logvar).mean()\n",
    "        loss.backward()\n",
    "        optimizer.step()\n",
    "        running_loss += loss.item() * inputs.size(0)\n",
    "    return running_loss / len(train_loader.dataset)\n",
    "\n",
    "def evaluate_gaussian_dnn(val_loader, model):\n",
    "    model.eval()\n",
    "    running_loss = 0.0\n",
    "    with torch.no_grad():\n",
    "        for inputs, targets in val_loader:\n",
    "            inputs, targets = inputs.to(device), targets.to(device)\n",
    "            mean, logvar = model(inputs)\n",
    "            \n",
    "            loss = 0.5 * (torch.exp(-logvar) * (targets - mean)**2 + logvar).mean()\n",
    "            running_loss += loss.item() * inputs.size(0)\n",
    "    return running_loss / len(val_loader.dataset)"
   ]
  },
  {
   "cell_type": "code",
   "execution_count": null,
   "id": "cc8a42a4",
   "metadata": {},
   "outputs": [],
   "source": []
  },
  {
   "cell_type": "code",
   "execution_count": 44,
   "id": "ae794223",
   "metadata": {},
   "outputs": [],
   "source": [
    "dta = pd.read_csv(\"../data/fall-msd-treatment.csv\")"
   ]
  },
  {
   "cell_type": "code",
   "execution_count": 45,
   "id": "366a446b",
   "metadata": {},
   "outputs": [],
   "source": [
    "dta = dta[dta['payoff'] > 0.0]"
   ]
  },
  {
   "cell_type": "code",
   "execution_count": 67,
   "id": "f5aa0fdc",
   "metadata": {},
   "outputs": [],
   "source": [
    "day_feats = pd.to_datetime(dta['last_scanned_datetime']).dt.day_of_week.values.reshape(-1, 1)"
   ]
  },
  {
   "cell_type": "code",
   "execution_count": 46,
   "id": "db311f67",
   "metadata": {},
   "outputs": [],
   "source": [
    "one_hot_prod = OneHotEncoder(sparse=False)"
   ]
  },
  {
   "cell_type": "code",
   "execution_count": 47,
   "id": "01fe071c",
   "metadata": {},
   "outputs": [],
   "source": [
    "one_hot_store = OneHotEncoder(sparse=False)"
   ]
  },
  {
   "cell_type": "code",
   "execution_count": 63,
   "id": "1cc028a4",
   "metadata": {},
   "outputs": [],
   "source": [
    "prod_feats = one_hot_prod.fit_transform(dta['product_id'].values.reshape(-1, 1))"
   ]
  },
  {
   "cell_type": "code",
   "execution_count": 49,
   "id": "09b28579",
   "metadata": {},
   "outputs": [
    {
     "data": {
      "text/plain": [
       "array([[0., 0., 0., ..., 0., 0., 0.],\n",
       "       [0., 0., 0., ..., 0., 0., 0.],\n",
       "       [0., 0., 0., ..., 0., 0., 0.],\n",
       "       ...,\n",
       "       [0., 0., 0., ..., 0., 0., 0.],\n",
       "       [0., 0., 0., ..., 0., 0., 0.],\n",
       "       [0., 0., 0., ..., 0., 0., 0.]])"
      ]
     },
     "execution_count": 49,
     "metadata": {},
     "output_type": "execute_result"
    }
   ],
   "source": [
    "one_hot_prod.fit_transform(dta['store_id'].values.reshape(-1, 1))"
   ]
  },
  {
   "cell_type": "code",
   "execution_count": 68,
   "id": "f096e9fa",
   "metadata": {},
   "outputs": [
    {
     "data": {
      "text/plain": [
       "array([[4],\n",
       "       [4],\n",
       "       [4],\n",
       "       ...,\n",
       "       [2],\n",
       "       [2],\n",
       "       [2]])"
      ]
     },
     "execution_count": 68,
     "metadata": {},
     "output_type": "execute_result"
    }
   ],
   "source": [
    "day_feats"
   ]
  },
  {
   "cell_type": "code",
   "execution_count": 65,
   "id": "9a5e541e",
   "metadata": {},
   "outputs": [
    {
     "data": {
      "text/plain": [
       "(7303, 133)"
      ]
     },
     "execution_count": 65,
     "metadata": {},
     "output_type": "execute_result"
    }
   ],
   "source": [
    "prod_feats.shape"
   ]
  },
  {
   "cell_type": "code",
   "execution_count": 70,
   "id": "a2c0e929",
   "metadata": {},
   "outputs": [],
   "source": [
    "x_values = np.concatenate([prod_feats, day_feats], axis=-1)"
   ]
  },
  {
   "cell_type": "code",
   "execution_count": 71,
   "id": "b74ae09b",
   "metadata": {},
   "outputs": [],
   "source": [
    "y_values = dta['payoff'].values"
   ]
  },
  {
   "cell_type": "code",
   "execution_count": null,
   "id": "6a8f20a6",
   "metadata": {},
   "outputs": [],
   "source": []
  },
  {
   "cell_type": "code",
   "execution_count": 76,
   "id": "48c99b26",
   "metadata": {},
   "outputs": [],
   "source": [
    "# Convert data to PyTorch tensors\n",
    "x_tensor = torch.tensor(x_values, dtype=torch.float32).unsqueeze(1)\n",
    "y_tensor = torch.tensor(y_values, dtype=torch.float32).unsqueeze(1)\n",
    "\n",
    "# Split data into training and testing sets\n",
    "x_train, x_test, y_train, y_test = train_test_split(x_tensor, y_tensor, test_size=0.1, random_state=42)\n",
    "\n",
    "# Create a DataLoader for training data\n",
    "train_dataset = TensorDataset(x_train, y_train)\n",
    "test_dataset = TensorDataset(x_test, y_test)\n",
    "train_loader = DataLoader(train_dataset, batch_size=32, shuffle=True)\n",
    "val_loader = DataLoader(test_dataset, batch_size=32, shuffle=True)"
   ]
  },
  {
   "cell_type": "code",
   "execution_count": 77,
   "id": "3a9a4582",
   "metadata": {},
   "outputs": [],
   "source": [
    "device = torch.device(\"cpu\")"
   ]
  },
  {
   "cell_type": "code",
   "execution_count": 78,
   "id": "4e78b496",
   "metadata": {},
   "outputs": [],
   "source": [
    "# Instantiate and train the Gaussian DNN model\n",
    "gaussian_dnn_model = GaussianDNN(num_feats =  x_values.shape[1]).to(device)\n",
    "optimizer = optim.Adam(gaussian_dnn_model.parameters(), lr=0.01)"
   ]
  },
  {
   "cell_type": "code",
   "execution_count": 79,
   "id": "1f8c9fc4",
   "metadata": {},
   "outputs": [
    {
     "name": "stderr",
     "output_type": "stream",
     "text": [
      "Training Gaussian DNN: 100%|█| 20/20 [00:11<00:00,  1.67epoch/s, Train Loss=1.4750, Val Lo\n"
     ]
    }
   ],
   "source": [
    "num_epochs = 20\n",
    "progress_bar = tqdm(range(num_epochs), desc=\"Training Gaussian DNN\", unit=\"epoch\")\n",
    "for epoch in progress_bar:\n",
    "    train_loss = train_gaussian_dnn(train_loader, gaussian_dnn_model, optimizer)\n",
    "    val_loss = evaluate_gaussian_dnn(val_loader, gaussian_dnn_model)\n",
    "    \n",
    "    progress_bar.set_postfix({\"Train Loss\": f\"{train_loss:.4f}\", \"Val Loss\": f\"{val_loss:.4f}\"})"
   ]
  },
  {
   "cell_type": "code",
   "execution_count": null,
   "id": "57603f89",
   "metadata": {},
   "outputs": [],
   "source": []
  },
  {
   "cell_type": "code",
   "execution_count": null,
   "id": "a20268b2",
   "metadata": {},
   "outputs": [],
   "source": []
  },
  {
   "cell_type": "code",
   "execution_count": null,
   "id": "baf4c3b5",
   "metadata": {},
   "outputs": [],
   "source": []
  }
 ],
 "metadata": {
  "kernelspec": {
   "display_name": "Python 3 (ipykernel)",
   "language": "python",
   "name": "python3"
  },
  "language_info": {
   "codemirror_mode": {
    "name": "ipython",
    "version": 3
   },
   "file_extension": ".py",
   "mimetype": "text/x-python",
   "name": "python",
   "nbconvert_exporter": "python",
   "pygments_lexer": "ipython3",
   "version": "3.9.13"
  }
 },
 "nbformat": 4,
 "nbformat_minor": 5
}
