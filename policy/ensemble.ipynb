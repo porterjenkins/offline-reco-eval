{
 "cells": [
  {
   "cell_type": "code",
   "execution_count": 3,
   "id": "c3268e69",
   "metadata": {},
   "outputs": [],
   "source": [
    "import pandas as pd\n",
    "import numpy as np\n",
    "import matplotlib.pyplot as plt\n",
    "import torch\n",
    "import torch.nn as nn\n",
    "import torch.optim as optim\n",
    "from torch.utils.data import DataLoader, TensorDataset\n",
    "from sklearn.model_selection import train_test_split\n",
    "from tqdm import tqdm\n"
   ]
  },
  {
   "cell_type": "code",
   "execution_count": 13,
   "id": "fd86c8ae",
   "metadata": {},
   "outputs": [],
   "source": [
    "from sklearn.preprocessing import OneHotEncoder"
   ]
  },
  {
   "cell_type": "code",
   "execution_count": 42,
   "id": "499e341a",
   "metadata": {},
   "outputs": [],
   "source": [
    "class GaussianDNN(nn.Module):\n",
    "    def __init__(self, num_feats: int):\n",
    "        super(GaussianDNN, self).__init__()\n",
    "        self.fc1 = nn.Linear(num_feats, 256)\n",
    "        self.fc2 = nn.Linear(256, 256)\n",
    "        self.fc3 = nn.Linear(256, 256)\n",
    "        self.mean_output = nn.Linear(256, 1)\n",
    "        self.logvar_output = nn.Linear(256, 1)\n",
    "        self.activation = nn.ReLU()\n",
    "\n",
    "    def forward(self, x):\n",
    "        x = self.activation(self.fc1(x))\n",
    "        x = self.activation(self.fc2(x))\n",
    "        x = self.activation(self.fc3(x))\n",
    "        mean = self.mean_output(x)\n",
    "        logvar = self.logvar_output(x)\n",
    "        return mean, logvar"
   ]
  },
  {
   "cell_type": "code",
   "execution_count": 43,
   "id": "7f933a8c",
   "metadata": {},
   "outputs": [],
   "source": [
    "def train_gaussian_dnn(train_loader, model, optimizer):\n",
    "    model.train()\n",
    "    running_loss = 0.0\n",
    "    for inputs, targets in train_loader:\n",
    "        inputs, targets = inputs.to(device), targets.to(device)\n",
    "        optimizer.zero_grad()\n",
    "        mean, logvar = model(inputs)\n",
    "        \n",
    "        loss = 0.5 * (torch.exp(-logvar) * (targets - mean)**2 + logvar).mean()\n",
    "        loss.backward()\n",
    "        optimizer.step()\n",
    "        running_loss += loss.item() * inputs.size(0)\n",
    "    return running_loss / len(train_loader.dataset)\n",
    "\n",
    "def evaluate_gaussian_dnn(val_loader, model):\n",
    "    model.eval()\n",
    "    running_loss = 0.0\n",
    "    with torch.no_grad():\n",
    "        for inputs, targets in val_loader:\n",
    "            inputs, targets = inputs.to(device), targets.to(device)\n",
    "            mean, logvar = model(inputs)\n",
    "            \n",
    "            loss = 0.5 * (torch.exp(-logvar) * (targets - mean)**2 + logvar).mean()\n",
    "            running_loss += loss.item() * inputs.size(0)\n",
    "    return running_loss / len(val_loader.dataset)"
   ]
  },
  {
   "cell_type": "code",
   "execution_count": 90,
   "id": "04d4a75a",
   "metadata": {},
   "outputs": [],
   "source": [
    "tol = 95.0"
   ]
  },
  {
   "cell_type": "code",
   "execution_count": 91,
   "id": "c00fad7c",
   "metadata": {},
   "outputs": [],
   "source": [
    "dta = pd.read_csv(\"../data/fall-msd-treatment.csv\")"
   ]
  },
  {
   "cell_type": "code",
   "execution_count": 92,
   "id": "a14552e0",
   "metadata": {},
   "outputs": [],
   "source": [
    "dta = dta[dta['payoff'] > 0.0]"
   ]
  },
  {
   "cell_type": "code",
   "execution_count": 111,
   "id": "b24d6806",
   "metadata": {},
   "outputs": [
    {
     "data": {
      "text/html": [
       "<div>\n",
       "<style scoped>\n",
       "    .dataframe tbody tr th:only-of-type {\n",
       "        vertical-align: middle;\n",
       "    }\n",
       "\n",
       "    .dataframe tbody tr th {\n",
       "        vertical-align: top;\n",
       "    }\n",
       "\n",
       "    .dataframe thead th {\n",
       "        text-align: right;\n",
       "    }\n",
       "</style>\n",
       "<table border=\"1\" class=\"dataframe\">\n",
       "  <thead>\n",
       "    <tr style=\"text-align: right;\">\n",
       "      <th></th>\n",
       "      <th>Unnamed: 0</th>\n",
       "      <th>store_name</th>\n",
       "      <th>store_id</th>\n",
       "      <th>display_extra_info</th>\n",
       "      <th>display_id</th>\n",
       "      <th>last_scanned_datetime</th>\n",
       "      <th>name</th>\n",
       "      <th>previous_post_scan_num_facings</th>\n",
       "      <th>max_slots</th>\n",
       "      <th>payoff</th>\n",
       "      <th>product_id</th>\n",
       "    </tr>\n",
       "  </thead>\n",
       "  <tbody>\n",
       "    <tr>\n",
       "      <th>15</th>\n",
       "      <td>58</td>\n",
       "      <td>WALMART SC #2511</td>\n",
       "      <td>7d4a839d-d9e2-46d3-bce4-6c8e630780eb</td>\n",
       "      <td>Self Checkout Market Entrance</td>\n",
       "      <td>25cf3fa3-bb5b-4945-a94d-590bdce753f6</td>\n",
       "      <td>2022-11-18 17:47:02+00:00</td>\n",
       "      <td>POWERADE Mountain Berry Blast Bottle, 20 fl oz</td>\n",
       "      <td>2.0</td>\n",
       "      <td>36.0</td>\n",
       "      <td>5.705230</td>\n",
       "      <td>ba7ba9c4-89d1-4f1e-958d-f6aaf1135a54</td>\n",
       "    </tr>\n",
       "    <tr>\n",
       "      <th>17</th>\n",
       "      <td>60</td>\n",
       "      <td>WALMART SC #2511</td>\n",
       "      <td>7d4a839d-d9e2-46d3-bce4-6c8e630780eb</td>\n",
       "      <td>Self Checkout Market Entrance</td>\n",
       "      <td>25cf3fa3-bb5b-4945-a94d-590bdce753f6</td>\n",
       "      <td>2022-11-18 17:47:02+00:00</td>\n",
       "      <td>Sprite Bottle, 20 fl oz</td>\n",
       "      <td>4.0</td>\n",
       "      <td>36.0</td>\n",
       "      <td>5.705230</td>\n",
       "      <td>fac3c507-24ce-4dbb-872c-9dcaddc40dd6</td>\n",
       "    </tr>\n",
       "    <tr>\n",
       "      <th>20</th>\n",
       "      <td>63</td>\n",
       "      <td>WALMART SC #2511</td>\n",
       "      <td>7d4a839d-d9e2-46d3-bce4-6c8e630780eb</td>\n",
       "      <td>Self Checkout Market Entrance</td>\n",
       "      <td>25cf3fa3-bb5b-4945-a94d-590bdce753f6</td>\n",
       "      <td>2022-11-18 17:47:02+00:00</td>\n",
       "      <td>Coca-Cola Cherry Bottle, 20 fl oz</td>\n",
       "      <td>2.0</td>\n",
       "      <td>36.0</td>\n",
       "      <td>4.564184</td>\n",
       "      <td>68767549-3cb3-4165-b0e3-1a3a75289e42</td>\n",
       "    </tr>\n",
       "    <tr>\n",
       "      <th>21</th>\n",
       "      <td>64</td>\n",
       "      <td>WALMART SC #2511</td>\n",
       "      <td>7d4a839d-d9e2-46d3-bce4-6c8e630780eb</td>\n",
       "      <td>Self Checkout Market Entrance</td>\n",
       "      <td>25cf3fa3-bb5b-4945-a94d-590bdce753f6</td>\n",
       "      <td>2022-11-18 17:47:02+00:00</td>\n",
       "      <td>Monster Energy Zero Ultra 16oz Can</td>\n",
       "      <td>3.0</td>\n",
       "      <td>36.0</td>\n",
       "      <td>2.282092</td>\n",
       "      <td>97de171d-9ebe-4e3a-a948-8e74ec9b45e0</td>\n",
       "    </tr>\n",
       "    <tr>\n",
       "      <th>22</th>\n",
       "      <td>65</td>\n",
       "      <td>WALMART SC #2511</td>\n",
       "      <td>7d4a839d-d9e2-46d3-bce4-6c8e630780eb</td>\n",
       "      <td>Self Checkout Market Entrance</td>\n",
       "      <td>25cf3fa3-bb5b-4945-a94d-590bdce753f6</td>\n",
       "      <td>2022-11-18 17:47:02+00:00</td>\n",
       "      <td>Diet Coke Bottle, 20 fl oz</td>\n",
       "      <td>4.0</td>\n",
       "      <td>36.0</td>\n",
       "      <td>2.282092</td>\n",
       "      <td>a701c623-579d-42bd-a2fe-a34578c54b24</td>\n",
       "    </tr>\n",
       "    <tr>\n",
       "      <th>...</th>\n",
       "      <td>...</td>\n",
       "      <td>...</td>\n",
       "      <td>...</td>\n",
       "      <td>...</td>\n",
       "      <td>...</td>\n",
       "      <td>...</td>\n",
       "      <td>...</td>\n",
       "      <td>...</td>\n",
       "      <td>...</td>\n",
       "      <td>...</td>\n",
       "      <td>...</td>\n",
       "    </tr>\n",
       "    <tr>\n",
       "      <th>14976</th>\n",
       "      <td>36441</td>\n",
       "      <td>WALMART NM #4100</td>\n",
       "      <td>405e1d90-4782-4013-87b6-efcc73af808a</td>\n",
       "      <td>Self checkout Swire cooler</td>\n",
       "      <td>f3f231b8-9933-4b25-94e1-67ef63e2db3f</td>\n",
       "      <td>2022-09-21 20:32:22+00:00</td>\n",
       "      <td>Sprite Bottle, 20 fl oz</td>\n",
       "      <td>3.0</td>\n",
       "      <td>50.0</td>\n",
       "      <td>2.333874</td>\n",
       "      <td>fac3c507-24ce-4dbb-872c-9dcaddc40dd6</td>\n",
       "    </tr>\n",
       "    <tr>\n",
       "      <th>14977</th>\n",
       "      <td>36442</td>\n",
       "      <td>WALMART NM #4100</td>\n",
       "      <td>405e1d90-4782-4013-87b6-efcc73af808a</td>\n",
       "      <td>Self checkout Swire cooler</td>\n",
       "      <td>f3f231b8-9933-4b25-94e1-67ef63e2db3f</td>\n",
       "      <td>2022-09-21 20:32:22+00:00</td>\n",
       "      <td>Coca-Cola Dreamworld 20oz</td>\n",
       "      <td>3.0</td>\n",
       "      <td>50.0</td>\n",
       "      <td>1.909533</td>\n",
       "      <td>6e0c30a8-554f-4960-9124-1eb1e4cfe72d</td>\n",
       "    </tr>\n",
       "    <tr>\n",
       "      <th>14978</th>\n",
       "      <td>36443</td>\n",
       "      <td>WALMART NM #4100</td>\n",
       "      <td>405e1d90-4782-4013-87b6-efcc73af808a</td>\n",
       "      <td>Self checkout Swire cooler</td>\n",
       "      <td>f3f231b8-9933-4b25-94e1-67ef63e2db3f</td>\n",
       "      <td>2022-09-21 20:32:22+00:00</td>\n",
       "      <td>Coca-Cola Zero Sugar Bottle, 20 fl oz</td>\n",
       "      <td>3.0</td>\n",
       "      <td>50.0</td>\n",
       "      <td>2.546044</td>\n",
       "      <td>a2673d8c-c3a0-47d3-b72d-605503f1a21a</td>\n",
       "    </tr>\n",
       "    <tr>\n",
       "      <th>14979</th>\n",
       "      <td>36444</td>\n",
       "      <td>WALMART NM #4100</td>\n",
       "      <td>405e1d90-4782-4013-87b6-efcc73af808a</td>\n",
       "      <td>Self checkout Swire cooler</td>\n",
       "      <td>f3f231b8-9933-4b25-94e1-67ef63e2db3f</td>\n",
       "      <td>2022-09-21 20:32:22+00:00</td>\n",
       "      <td>Monster Energy Zero Ultra 16oz Can</td>\n",
       "      <td>4.0</td>\n",
       "      <td>50.0</td>\n",
       "      <td>2.333874</td>\n",
       "      <td>97de171d-9ebe-4e3a-a948-8e74ec9b45e0</td>\n",
       "    </tr>\n",
       "    <tr>\n",
       "      <th>14980</th>\n",
       "      <td>36445</td>\n",
       "      <td>WALMART NM #4100</td>\n",
       "      <td>405e1d90-4782-4013-87b6-efcc73af808a</td>\n",
       "      <td>Self checkout Swire cooler</td>\n",
       "      <td>f3f231b8-9933-4b25-94e1-67ef63e2db3f</td>\n",
       "      <td>2022-09-21 20:32:22+00:00</td>\n",
       "      <td>Nos Citrus 16oz Can</td>\n",
       "      <td>3.0</td>\n",
       "      <td>50.0</td>\n",
       "      <td>1.273022</td>\n",
       "      <td>e15b63b0-d58b-42e5-8170-5b5943c1e399</td>\n",
       "    </tr>\n",
       "  </tbody>\n",
       "</table>\n",
       "<p>6937 rows × 11 columns</p>\n",
       "</div>"
      ],
      "text/plain": [
       "       Unnamed: 0        store_name                              store_id  \\\n",
       "15             58  WALMART SC #2511  7d4a839d-d9e2-46d3-bce4-6c8e630780eb   \n",
       "17             60  WALMART SC #2511  7d4a839d-d9e2-46d3-bce4-6c8e630780eb   \n",
       "20             63  WALMART SC #2511  7d4a839d-d9e2-46d3-bce4-6c8e630780eb   \n",
       "21             64  WALMART SC #2511  7d4a839d-d9e2-46d3-bce4-6c8e630780eb   \n",
       "22             65  WALMART SC #2511  7d4a839d-d9e2-46d3-bce4-6c8e630780eb   \n",
       "...           ...               ...                                   ...   \n",
       "14976       36441  WALMART NM #4100  405e1d90-4782-4013-87b6-efcc73af808a   \n",
       "14977       36442  WALMART NM #4100  405e1d90-4782-4013-87b6-efcc73af808a   \n",
       "14978       36443  WALMART NM #4100  405e1d90-4782-4013-87b6-efcc73af808a   \n",
       "14979       36444  WALMART NM #4100  405e1d90-4782-4013-87b6-efcc73af808a   \n",
       "14980       36445  WALMART NM #4100  405e1d90-4782-4013-87b6-efcc73af808a   \n",
       "\n",
       "                    display_extra_info                            display_id  \\\n",
       "15     Self Checkout Market Entrance    25cf3fa3-bb5b-4945-a94d-590bdce753f6   \n",
       "17     Self Checkout Market Entrance    25cf3fa3-bb5b-4945-a94d-590bdce753f6   \n",
       "20     Self Checkout Market Entrance    25cf3fa3-bb5b-4945-a94d-590bdce753f6   \n",
       "21     Self Checkout Market Entrance    25cf3fa3-bb5b-4945-a94d-590bdce753f6   \n",
       "22     Self Checkout Market Entrance    25cf3fa3-bb5b-4945-a94d-590bdce753f6   \n",
       "...                                ...                                   ...   \n",
       "14976       Self checkout Swire cooler  f3f231b8-9933-4b25-94e1-67ef63e2db3f   \n",
       "14977       Self checkout Swire cooler  f3f231b8-9933-4b25-94e1-67ef63e2db3f   \n",
       "14978       Self checkout Swire cooler  f3f231b8-9933-4b25-94e1-67ef63e2db3f   \n",
       "14979       Self checkout Swire cooler  f3f231b8-9933-4b25-94e1-67ef63e2db3f   \n",
       "14980       Self checkout Swire cooler  f3f231b8-9933-4b25-94e1-67ef63e2db3f   \n",
       "\n",
       "           last_scanned_datetime  \\\n",
       "15     2022-11-18 17:47:02+00:00   \n",
       "17     2022-11-18 17:47:02+00:00   \n",
       "20     2022-11-18 17:47:02+00:00   \n",
       "21     2022-11-18 17:47:02+00:00   \n",
       "22     2022-11-18 17:47:02+00:00   \n",
       "...                          ...   \n",
       "14976  2022-09-21 20:32:22+00:00   \n",
       "14977  2022-09-21 20:32:22+00:00   \n",
       "14978  2022-09-21 20:32:22+00:00   \n",
       "14979  2022-09-21 20:32:22+00:00   \n",
       "14980  2022-09-21 20:32:22+00:00   \n",
       "\n",
       "                                                 name  \\\n",
       "15     POWERADE Mountain Berry Blast Bottle, 20 fl oz   \n",
       "17                            Sprite Bottle, 20 fl oz   \n",
       "20                  Coca-Cola Cherry Bottle, 20 fl oz   \n",
       "21                 Monster Energy Zero Ultra 16oz Can   \n",
       "22                         Diet Coke Bottle, 20 fl oz   \n",
       "...                                               ...   \n",
       "14976                         Sprite Bottle, 20 fl oz   \n",
       "14977                      Coca-Cola Dreamworld 20oz    \n",
       "14978           Coca-Cola Zero Sugar Bottle, 20 fl oz   \n",
       "14979              Monster Energy Zero Ultra 16oz Can   \n",
       "14980                             Nos Citrus 16oz Can   \n",
       "\n",
       "       previous_post_scan_num_facings  max_slots    payoff  \\\n",
       "15                                2.0       36.0  5.705230   \n",
       "17                                4.0       36.0  5.705230   \n",
       "20                                2.0       36.0  4.564184   \n",
       "21                                3.0       36.0  2.282092   \n",
       "22                                4.0       36.0  2.282092   \n",
       "...                               ...        ...       ...   \n",
       "14976                             3.0       50.0  2.333874   \n",
       "14977                             3.0       50.0  1.909533   \n",
       "14978                             3.0       50.0  2.546044   \n",
       "14979                             4.0       50.0  2.333874   \n",
       "14980                             3.0       50.0  1.273022   \n",
       "\n",
       "                                 product_id  \n",
       "15     ba7ba9c4-89d1-4f1e-958d-f6aaf1135a54  \n",
       "17     fac3c507-24ce-4dbb-872c-9dcaddc40dd6  \n",
       "20     68767549-3cb3-4165-b0e3-1a3a75289e42  \n",
       "21     97de171d-9ebe-4e3a-a948-8e74ec9b45e0  \n",
       "22     a701c623-579d-42bd-a2fe-a34578c54b24  \n",
       "...                                     ...  \n",
       "14976  fac3c507-24ce-4dbb-872c-9dcaddc40dd6  \n",
       "14977  6e0c30a8-554f-4960-9124-1eb1e4cfe72d  \n",
       "14978  a2673d8c-c3a0-47d3-b72d-605503f1a21a  \n",
       "14979  97de171d-9ebe-4e3a-a948-8e74ec9b45e0  \n",
       "14980  e15b63b0-d58b-42e5-8170-5b5943c1e399  \n",
       "\n",
       "[6937 rows x 11 columns]"
      ]
     },
     "execution_count": 111,
     "metadata": {},
     "output_type": "execute_result"
    }
   ],
   "source": [
    "dta"
   ]
  },
  {
   "cell_type": "code",
   "execution_count": 93,
   "id": "cbbc58eb",
   "metadata": {},
   "outputs": [
    {
     "data": {
      "text/plain": [
       "array([8.68000192])"
      ]
     },
     "execution_count": 93,
     "metadata": {},
     "output_type": "execute_result"
    }
   ],
   "source": [
    "np.percentile(dta['payoff'], q=[tol])"
   ]
  },
  {
   "cell_type": "code",
   "execution_count": 94,
   "id": "a7722ac6",
   "metadata": {},
   "outputs": [],
   "source": [
    "dta = dta[dta['payoff'] < np.percentile(dta['payoff'], q=[tol])[0]]"
   ]
  },
  {
   "cell_type": "code",
   "execution_count": 95,
   "id": "8091f48c",
   "metadata": {},
   "outputs": [],
   "source": [
    "day_feats = pd.to_datetime(dta['last_scanned_datetime']).dt.day_of_week.values.reshape(-1, 1)"
   ]
  },
  {
   "cell_type": "code",
   "execution_count": 96,
   "id": "de1f6fb5",
   "metadata": {},
   "outputs": [],
   "source": [
    "one_hot_prod = OneHotEncoder(sparse=False)"
   ]
  },
  {
   "cell_type": "code",
   "execution_count": 97,
   "id": "0cc5f2b8",
   "metadata": {},
   "outputs": [],
   "source": [
    "one_hot_store = OneHotEncoder(sparse=False)"
   ]
  },
  {
   "cell_type": "code",
   "execution_count": 98,
   "id": "e25edb74",
   "metadata": {},
   "outputs": [],
   "source": [
    "prod_feats = one_hot_prod.fit_transform(dta['product_id'].values.reshape(-1, 1))"
   ]
  },
  {
   "cell_type": "code",
   "execution_count": 99,
   "id": "ee41bbe4",
   "metadata": {},
   "outputs": [
    {
     "data": {
      "text/plain": [
       "array([[0., 0., 0., ..., 0., 0., 0.],\n",
       "       [0., 0., 0., ..., 0., 0., 0.],\n",
       "       [0., 0., 0., ..., 0., 0., 0.],\n",
       "       ...,\n",
       "       [0., 0., 0., ..., 0., 0., 0.],\n",
       "       [0., 0., 0., ..., 0., 0., 0.],\n",
       "       [0., 0., 0., ..., 0., 0., 0.]])"
      ]
     },
     "execution_count": 99,
     "metadata": {},
     "output_type": "execute_result"
    }
   ],
   "source": [
    "one_hot_prod.fit_transform(dta['store_id'].values.reshape(-1, 1))"
   ]
  },
  {
   "cell_type": "code",
   "execution_count": 100,
   "id": "3884df14",
   "metadata": {},
   "outputs": [
    {
     "data": {
      "text/plain": [
       "array([[4],\n",
       "       [4],\n",
       "       [4],\n",
       "       ...,\n",
       "       [2],\n",
       "       [2],\n",
       "       [2]])"
      ]
     },
     "execution_count": 100,
     "metadata": {},
     "output_type": "execute_result"
    }
   ],
   "source": [
    "day_feats"
   ]
  },
  {
   "cell_type": "code",
   "execution_count": 101,
   "id": "40bcb878",
   "metadata": {},
   "outputs": [
    {
     "data": {
      "text/plain": [
       "(6937, 132)"
      ]
     },
     "execution_count": 101,
     "metadata": {},
     "output_type": "execute_result"
    }
   ],
   "source": [
    "prod_feats.shape"
   ]
  },
  {
   "cell_type": "code",
   "execution_count": 102,
   "id": "3247cd91",
   "metadata": {},
   "outputs": [],
   "source": [
    "x_values = np.concatenate([prod_feats, day_feats], axis=-1)"
   ]
  },
  {
   "cell_type": "code",
   "execution_count": 103,
   "id": "f02a077b",
   "metadata": {},
   "outputs": [],
   "source": [
    "y_values = dta['payoff'].values"
   ]
  },
  {
   "cell_type": "code",
   "execution_count": null,
   "id": "2b1ae79c",
   "metadata": {},
   "outputs": [],
   "source": []
  },
  {
   "cell_type": "code",
   "execution_count": 104,
   "id": "ed535f31",
   "metadata": {},
   "outputs": [],
   "source": [
    "# Convert data to PyTorch tensors\n",
    "x_tensor = torch.tensor(x_values, dtype=torch.float32).unsqueeze(1)\n",
    "y_tensor = torch.tensor(y_values, dtype=torch.float32).unsqueeze(1)\n",
    "\n",
    "# Split data into training and testing sets\n",
    "x_train, x_test, y_train, y_test = train_test_split(x_tensor, y_tensor, test_size=0.1, random_state=42)\n",
    "\n",
    "# Create a DataLoader for training data\n",
    "train_dataset = TensorDataset(x_train, y_train)\n",
    "test_dataset = TensorDataset(x_test, y_test)\n",
    "train_loader = DataLoader(train_dataset, batch_size=32, shuffle=True)\n",
    "val_loader = DataLoader(test_dataset, batch_size=32, shuffle=True)"
   ]
  },
  {
   "cell_type": "code",
   "execution_count": 105,
   "id": "41b11f5f",
   "metadata": {},
   "outputs": [],
   "source": [
    "device = torch.device(\"cpu\")"
   ]
  },
  {
   "cell_type": "code",
   "execution_count": 106,
   "id": "b6fc5802",
   "metadata": {},
   "outputs": [],
   "source": [
    "# Instantiate and train the Gaussian DNN model\n",
    "gaussian_dnn_model = GaussianDNN(num_feats =  x_values.shape[1]).to(device)\n",
    "optimizer = optim.Adam(gaussian_dnn_model.parameters(), lr=0.01)"
   ]
  },
  {
   "cell_type": "code",
   "execution_count": 110,
   "id": "90d46210",
   "metadata": {},
   "outputs": [
    {
     "name": "stderr",
     "output_type": "stream",
     "text": [
      "Training Gaussian DNN: 100%|█| 20/20 [00:11<00:00,  1.69epoch/s, Train Loss=1.14, Val Loss\n"
     ]
    }
   ],
   "source": [
    "num_epochs = 20\n",
    "progress_bar = tqdm(range(num_epochs), desc=\"Training Gaussian DNN\", unit=\"epoch\")\n",
    "for epoch in progress_bar:\n",
    "    train_loss = train_gaussian_dnn(train_loader, gaussian_dnn_model, optimizer)\n",
    "    val_loss = evaluate_gaussian_dnn(val_loader, gaussian_dnn_model)\n",
    "    \n",
    "    progress_bar.set_postfix({\"Train Loss\": f\"{train_loss:.2f}\", \"Val Loss\": f\"{val_loss:.2f}\"})"
   ]
  },
  {
   "cell_type": "code",
   "execution_count": 108,
   "id": "b368f559",
   "metadata": {},
   "outputs": [],
   "source": [
    "i = 0"
   ]
  },
  {
   "cell_type": "code",
   "execution_count": 109,
   "id": "aef0a851",
   "metadata": {},
   "outputs": [],
   "source": [
    "torch.save(gaussian_dnn_model.state_dict(), f\"gauss-dnn-{i}.pt\")"
   ]
  },
  {
   "cell_type": "code",
   "execution_count": null,
   "id": "3e78b952",
   "metadata": {},
   "outputs": [],
   "source": []
  }
 ],
 "metadata": {
  "kernelspec": {
   "display_name": "Python 3 (ipykernel)",
   "language": "python",
   "name": "python3"
  },
  "language_info": {
   "codemirror_mode": {
    "name": "ipython",
    "version": 3
   },
   "file_extension": ".py",
   "mimetype": "text/x-python",
   "name": "python",
   "nbconvert_exporter": "python",
   "pygments_lexer": "ipython3",
   "version": "3.9.13"
  }
 },
 "nbformat": 4,
 "nbformat_minor": 5
}
